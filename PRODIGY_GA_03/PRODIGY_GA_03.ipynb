{
  "nbformat": 4,
  "nbformat_minor": 0,
  "metadata": {
    "colab": {
      "provenance": []
    },
    "kernelspec": {
      "name": "python3",
      "display_name": "Python 3"
    },
    "language_info": {
      "name": "python"
    }
  },
  "cells": [
    {
      "cell_type": "code",
      "execution_count": 7,
      "metadata": {
        "colab": {
          "base_uri": "https://localhost:8080/"
        },
        "id": "PlRMY3_EwZiS",
        "outputId": "ec8aaeba-63b1-45ed-cde3-e22fa8311f51"
      },
      "outputs": [
        {
          "output_type": "stream",
          "name": "stdout",
          "text": [
            "Requirement already satisfied: matplotlib in /usr/local/lib/python3.11/dist-packages (3.10.0)\n",
            "Requirement already satisfied: contourpy>=1.0.1 in /usr/local/lib/python3.11/dist-packages (from matplotlib) (1.3.2)\n",
            "Requirement already satisfied: cycler>=0.10 in /usr/local/lib/python3.11/dist-packages (from matplotlib) (0.12.1)\n",
            "Requirement already satisfied: fonttools>=4.22.0 in /usr/local/lib/python3.11/dist-packages (from matplotlib) (4.58.4)\n",
            "Requirement already satisfied: kiwisolver>=1.3.1 in /usr/local/lib/python3.11/dist-packages (from matplotlib) (1.4.8)\n",
            "Requirement already satisfied: numpy>=1.23 in /usr/local/lib/python3.11/dist-packages (from matplotlib) (2.0.2)\n",
            "Requirement already satisfied: packaging>=20.0 in /usr/local/lib/python3.11/dist-packages (from matplotlib) (24.2)\n",
            "Requirement already satisfied: pillow>=8 in /usr/local/lib/python3.11/dist-packages (from matplotlib) (11.2.1)\n",
            "Requirement already satisfied: pyparsing>=2.3.1 in /usr/local/lib/python3.11/dist-packages (from matplotlib) (3.2.3)\n",
            "Requirement already satisfied: python-dateutil>=2.7 in /usr/local/lib/python3.11/dist-packages (from matplotlib) (2.9.0.post0)\n",
            "Requirement already satisfied: six>=1.5 in /usr/local/lib/python3.11/dist-packages (from python-dateutil>=2.7->matplotlib) (1.17.0)\n"
          ]
        }
      ],
      "source": [
        "# Install (only if needed, matplotlib usually pre-installed on Colab)\n",
        "!pip install matplotlib\n",
        "\n",
        "# Imports\n",
        "import random\n",
        "import re\n",
        "from collections import defaultdict, Counter\n",
        "import matplotlib.pyplot as plt\n"
      ]
    },
    {
      "cell_type": "code",
      "source": [
        "class MarkovChain:\n",
        "    def __init__(self, order=1):\n",
        "        self.order = order\n",
        "        self.model = defaultdict(list)\n",
        "\n",
        "    def train(self, text):\n",
        "        \"\"\"Train the Markov chain on the given text\"\"\"\n",
        "        # Clean up text to normalize spacing\n",
        "        words = re.findall(r'\\b\\w+\\b', text.lower())\n",
        "\n",
        "        if len(words) < self.order:\n",
        "            raise ValueError(\"Text too short for the chosen order.\")\n",
        "\n",
        "        # Build tuples of (history) -> next_word\n",
        "        for i in range(len(words) - self.order):\n",
        "            history = tuple(words[i:i + self.order])\n",
        "            next_word = words[i + self.order]\n",
        "            self.model[history].append(next_word)\n",
        "\n",
        "    def generate(self, length=50, seed=None):\n",
        "        \"\"\"Generate text of specified length starting from seed history\"\"\"\n",
        "        if not self.model:\n",
        "            raise ValueError(\"Model is empty. Train it first.\")\n",
        "\n",
        "        # Start from a random state if no seed\n",
        "        history = None\n",
        "        if seed:\n",
        "            seed_words = tuple(seed.lower().split())\n",
        "            if seed_words in self.model:\n",
        "                history = seed_words\n",
        "            else:\n",
        "                print(f\"Seed '{seed}' not found, picking randomly.\")\n",
        "\n",
        "        if history is None:\n",
        "            history = random.choice(list(self.model.keys()))\n",
        "\n",
        "        output = list(history)\n",
        "\n",
        "        for _ in range(length - self.order):\n",
        "            next_words = self.model.get(history)\n",
        "            if not next_words:\n",
        "                break\n",
        "            next_word = random.choice(next_words)\n",
        "            output.append(next_word)\n",
        "            history = tuple(output[-self.order:])\n",
        "\n",
        "        return ' '.join(output)\n"
      ],
      "metadata": {
        "id": "dQSIcAovzPlC"
      },
      "execution_count": 8,
      "outputs": []
    },
    {
      "cell_type": "code",
      "source": [
        "# Example text corpus (can replace with large text from file)\n",
        "sample_text = \"\"\"\n",
        "In the heart of the forest, the old trees whispered stories of ancient times.\n",
        "Birds sang melodies unknown to human ears, and the river carried secrets down to the valley.\n",
        "Every morning, sunlight broke through the dense canopy, painting golden patterns on the mossy ground.\n",
        "\"\"\"\n",
        "\n",
        "# Create and train the Markov chain\n",
        "mc = MarkovChain(order=2)\n",
        "mc.train(sample_text)\n",
        "\n",
        "# Print a snippet of the model's transitions\n",
        "for k, v in list(mc.model.items())[:5]:\n",
        "    print(f\"{k} -> {v}\")\n"
      ],
      "metadata": {
        "colab": {
          "base_uri": "https://localhost:8080/"
        },
        "id": "5iKKDn_izokc",
        "outputId": "6b8d5d3a-6e88-462b-ef6e-cea22ceaf01d"
      },
      "execution_count": 9,
      "outputs": [
        {
          "output_type": "stream",
          "name": "stdout",
          "text": [
            "('in', 'the') -> ['heart']\n",
            "('the', 'heart') -> ['of']\n",
            "('heart', 'of') -> ['the']\n",
            "('of', 'the') -> ['forest']\n",
            "('the', 'forest') -> ['the']\n"
          ]
        }
      ]
    },
    {
      "cell_type": "code",
      "source": [],
      "metadata": {
        "id": "1rb4iWZSzqzt"
      },
      "execution_count": 9,
      "outputs": []
    },
    {
      "cell_type": "code",
      "source": [
        "# Try generating from a specific seed\n",
        "print(\"\\nGenerated Text starting from 'the forest':\\n\")\n",
        "print(mc.generate(length=30, seed='the forest'))\n",
        "\n",
        "# Or purely random start\n",
        "print(\"\\nGenerated Text with random start:\\n\")\n",
        "print(mc.generate(length=30))\n"
      ],
      "metadata": {
        "colab": {
          "base_uri": "https://localhost:8080/"
        },
        "id": "wh3i8vRAzuYV",
        "outputId": "6f45f890-44a5-45e3-878a-390255970ec8"
      },
      "execution_count": 10,
      "outputs": [
        {
          "output_type": "stream",
          "name": "stdout",
          "text": [
            "\n",
            "Generated Text starting from 'the forest':\n",
            "\n",
            "the forest the old trees whispered stories of ancient times birds sang melodies unknown to human ears and the river carried secrets down to the valley every morning sunlight broke\n",
            "\n",
            "Generated Text with random start:\n",
            "\n",
            "on the mossy ground\n"
          ]
        }
      ]
    },
    {
      "cell_type": "code",
      "source": [
        "# Pick a history to analyze\n",
        "history_to_check = ('the', 'forest')\n",
        "\n",
        "# Count frequencies\n",
        "counts = Counter(mc.model.get(history_to_check, []))\n",
        "\n",
        "# Plot\n",
        "if counts:\n",
        "    plt.figure(figsize=(8,4))\n",
        "    plt.bar(counts.keys(), counts.values(), color='teal')\n",
        "    plt.title(f\"Next word frequencies after: {history_to_check}\")\n",
        "    plt.ylabel(\"Frequency\")\n",
        "    plt.show()\n",
        "else:\n",
        "    print(f\"No transitions found for {history_to_check}\")\n"
      ],
      "metadata": {
        "colab": {
          "base_uri": "https://localhost:8080/",
          "height": 391
        },
        "id": "ZwVsTDWKzvcC",
        "outputId": "a3a27cda-a188-42e0-f699-eca31da02e75"
      },
      "execution_count": 11,
      "outputs": [
        {
          "output_type": "display_data",
          "data": {
            "text/plain": [
              "<Figure size 800x400 with 1 Axes>"
            ],
            "image/png": "[encoded data removed]"
          },
          "metadata": {}
        }
      ]
    }
  ]
}